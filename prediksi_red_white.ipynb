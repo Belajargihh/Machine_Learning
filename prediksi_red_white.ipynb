{
  "nbformat": 4,
  "nbformat_minor": 0,
  "metadata": {
    "colab": {
      "provenance": [],
      "authorship_tag": "ABX9TyN+eiIyTEE2OAokwlYKzbOO",
      "include_colab_link": true
    },
    "kernelspec": {
      "name": "python3",
      "display_name": "Python 3"
    },
    "language_info": {
      "name": "python"
    }
  },
  "cells": [
    {
      "cell_type": "markdown",
      "metadata": {
        "id": "view-in-github",
        "colab_type": "text"
      },
      "source": [
        "<a href=\"https://colab.research.google.com/github/Belajargihh/Machine_Learning/blob/main/prediksi_red_white.ipynb\" target=\"_parent\"><img src=\"https://colab.research.google.com/assets/colab-badge.svg\" alt=\"Open In Colab\"/></a>"
      ]
    },
    {
      "cell_type": "code",
      "execution_count": null,
      "metadata": {
        "id": "ZFHY8SVhQBKb"
      },
      "outputs": [],
      "source": [
        "# 1. Import library\n",
        "import pandas as pd\n",
        "import numpy as np\n",
        "import matplotlib.pyplot as plt\n",
        "import seaborn as sns"
      ]
    },
    {
      "cell_type": "code",
      "source": [
        "from sklearn.model_selection import train_test_split\n",
        "from sklearn.linear_model import LinearRegression\n",
        "from sklearn.ensemble import RandomForestRegressor\n",
        "from xgboost import XGBRegressor\n",
        "from sklearn.metrics import mean_absolute_error, mean_squared_error, r2_score"
      ],
      "metadata": {
        "id": "OrOE3tfNTWtz"
      },
      "execution_count": null,
      "outputs": []
    },
    {
      "cell_type": "code",
      "source": [
        "# 2. Load dan gabungkan data\n",
        "df_red = pd.read_csv('/content/redwine.csv')\n",
        "df_white = pd.read_csv('/content/whitewine.csv')"
      ],
      "metadata": {
        "id": "z5rygKz9TYg9"
      },
      "execution_count": null,
      "outputs": []
    },
    {
      "cell_type": "code",
      "source": [
        "df_red['type'] = 'red'\n",
        "df_white['type'] = 'white'\n",
        "df = pd.concat([df_red, df_white], ignore_index=True)"
      ],
      "metadata": {
        "id": "GzOzUGGwTaUW"
      },
      "execution_count": null,
      "outputs": []
    },
    {
      "cell_type": "code",
      "source": [
        "# 3. One-hot encoding kolom 'type'\n",
        "df = pd.get_dummies(df, columns=['type'], drop_first=True)"
      ],
      "metadata": {
        "id": "K3pllGTxTcZ1"
      },
      "execution_count": null,
      "outputs": []
    },
    {
      "cell_type": "code",
      "source": [
        "# 4. Pisahkan fitur dan target\n",
        "X = df.drop('quality', axis=1)\n",
        "y = df['quality']"
      ],
      "metadata": {
        "id": "7S7OwT1TTd_U"
      },
      "execution_count": null,
      "outputs": []
    },
    {
      "cell_type": "code",
      "source": [
        "# 5. Split data\n",
        "X_train, X_test, y_train, y_test = train_test_split(X, y, test_size=0.2, random_state=42)"
      ],
      "metadata": {
        "id": "3PKU8zotTfUl"
      },
      "execution_count": null,
      "outputs": []
    },
    {
      "cell_type": "code",
      "source": [
        "# 6. Inisialisasi model\n",
        "models = {\n",
        "    \"Random Forest\": RandomForestRegressor(n_estimators=100, random_state=42),\n",
        "    \"XGBoost\": XGBRegressor(n_estimators=100, random_state=42, verbosity=0)\n",
        "}"
      ],
      "metadata": {
        "id": "Fq5ATbQxThDc"
      },
      "execution_count": null,
      "outputs": []
    },
    {
      "cell_type": "code",
      "source": [
        "# 7. Evaluasi model\n",
        "results = []\n",
        "\n",
        "for name, model in models.items():\n",
        "    model.fit(X_train, y_train)\n",
        "    y_pred = model.predict(X_test)\n",
        "\n",
        "    mae = mean_absolute_error(y_test, y_pred)\n",
        "    mse = mean_squared_error(y_test, y_pred)\n",
        "    rmse = np.sqrt(mse)\n",
        "    r2 = r2_score(y_test, y_pred)\n",
        "\n",
        "    results.append({\n",
        "        'Model': name,\n",
        "        'MAE': mae,\n",
        "        'RMSE': rmse,\n",
        "        'R2': r2\n",
        "    })"
      ],
      "metadata": {
        "id": "3NLti0KRTjAF"
      },
      "execution_count": null,
      "outputs": []
    },
    {
      "cell_type": "code",
      "source": [
        "# 8. Tampilkan hasil evaluasi\n",
        "results_df = pd.DataFrame(results)\n",
        "print(results_df.sort_values(by='R2', ascending=False))"
      ],
      "metadata": {
        "colab": {
          "base_uri": "https://localhost:8080/"
        },
        "id": "2z-78mnmTmJd",
        "outputId": "c2735924-9e58-4517-abdd-c2b2597f0d41"
      },
      "execution_count": null,
      "outputs": [
        {
          "output_type": "stream",
          "name": "stdout",
          "text": [
            "           Model       MAE      RMSE        R2\n",
            "1        XGBoost  0.136132  0.298033  0.854702\n",
            "0  Random Forest  0.184250  0.312753  0.839994\n"
          ]
        }
      ]
    },
    {
      "cell_type": "code",
      "source": [
        "# 9. Visualisasi R2 per model\n",
        "plt.figure(figsize=(8, 5))\n",
        "sns.barplot(x='R2', y='Model', data=results_df.sort_values(by='R2', ascending=True), palette='viridis')\n",
        "plt.title('Perbandingan R² Score Antar Model')\n",
        "plt.xlabel('R² Score')\n",
        "plt.ylabel('Model')\n",
        "plt.grid(True)\n",
        "plt.show()"
      ],
      "metadata": {
        "colab": {
          "base_uri": "https://localhost:8080/",
          "height": 594
        },
        "id": "2Y_jO9AGTml7",
        "outputId": "16d8e62e-bad0-4767-a476-9433f744619b"
      },
      "execution_count": null,
      "outputs": [
        {
          "output_type": "stream",
          "name": "stderr",
          "text": [
            "/tmp/ipython-input-36-2394013415.py:3: FutureWarning: \n",
            "\n",
            "Passing `palette` without assigning `hue` is deprecated and will be removed in v0.14.0. Assign the `y` variable to `hue` and set `legend=False` for the same effect.\n",
            "\n",
            "  sns.barplot(x='R2', y='Model', data=results_df.sort_values(by='R2', ascending=True), palette='viridis')\n"
          ]
        },
        {
          "output_type": "display_data",
          "data": {
            "text/plain": [
              "<Figure size 800x500 with 1 Axes>"
            ],
            "image/png": "[encoded data removed]"
          },
          "metadata": {}
        }
      ]
    }
  ]
}